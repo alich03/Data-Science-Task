{
 "cells": [
  {
   "cell_type": "code",
   "execution_count": 1,
   "metadata": {},
   "outputs": [],
   "source": [
    "import pandas as pd \n",
    "import numpy as np \n",
    "import seaborn as sns\n",
    "import sklearn \n",
    "from sklearn.preprocessing import MinMaxScaler,StandardScaler,OneHotEncoder,OrdinalEncoder\n",
    "from sklearn.impute import SimpleImputer"
   ]
  },
  {
   "cell_type": "code",
   "execution_count": 4,
   "metadata": {},
   "outputs": [],
   "source": [
    "df=pd.read_csv('dataSets/dataset/a.csv',encoding='latin-1',na_values=['?? ???? ????????','???? ??? ????? ????? ??? ???????' , '??????? ?? ???? ??????','?????','????','???'])\n",
    "ds=pd.read_csv('dataSets/dataset/a.csv',encoding='latin-1')"
   ]
  },
  {
   "cell_type": "code",
   "execution_count": 108,
   "metadata": {},
   "outputs": [
    {
     "data": {
      "text/html": [
       "<div>\n",
       "<style scoped>\n",
       "    .dataframe tbody tr th:only-of-type {\n",
       "        vertical-align: middle;\n",
       "    }\n",
       "\n",
       "    .dataframe tbody tr th {\n",
       "        vertical-align: top;\n",
       "    }\n",
       "\n",
       "    .dataframe thead th {\n",
       "        text-align: right;\n",
       "    }\n",
       "</style>\n",
       "<table border=\"1\" class=\"dataframe\">\n",
       "  <thead>\n",
       "    <tr style=\"text-align: right;\">\n",
       "      <th></th>\n",
       "      <th>Order Number</th>\n",
       "      <th>Order Status</th>\n",
       "      <th>Book Name</th>\n",
       "      <th>Order Date</th>\n",
       "      <th>City (Billing)</th>\n",
       "    </tr>\n",
       "  </thead>\n",
       "  <tbody>\n",
       "    <tr>\n",
       "      <th>0</th>\n",
       "      <td>70978</td>\n",
       "      <td>Completed</td>\n",
       "      <td>Column Nigari Kese Sekhain</td>\n",
       "      <td>1/20/2021 17:43</td>\n",
       "      <td>Swat</td>\n",
       "    </tr>\n",
       "    <tr>\n",
       "      <th>1</th>\n",
       "      <td>70962</td>\n",
       "      <td>Completed</td>\n",
       "      <td>NaN</td>\n",
       "      <td>1/20/2021 13:37</td>\n",
       "      <td>Karachi</td>\n",
       "    </tr>\n",
       "    <tr>\n",
       "      <th>2</th>\n",
       "      <td>70960</td>\n",
       "      <td>Completed</td>\n",
       "      <td>Justju ka safar-1/Waqfa e Pareshani</td>\n",
       "      <td>1/20/2021 10:48</td>\n",
       "      <td>Karachi</td>\n",
       "    </tr>\n",
       "    <tr>\n",
       "      <th>3</th>\n",
       "      <td>70959</td>\n",
       "      <td>Completed</td>\n",
       "      <td>R ka Taaruf</td>\n",
       "      <td>1/20/2021 10:32</td>\n",
       "      <td>Karachi</td>\n",
       "    </tr>\n",
       "    <tr>\n",
       "      <th>4</th>\n",
       "      <td>70958</td>\n",
       "      <td>Completed</td>\n",
       "      <td>NaN</td>\n",
       "      <td>1/20/2021 10:29</td>\n",
       "      <td>Karachi</td>\n",
       "    </tr>\n",
       "  </tbody>\n",
       "</table>\n",
       "</div>"
      ],
      "text/plain": [
       "   Order Number Order Status                            Book Name  \\\n",
       "0         70978    Completed           Column Nigari Kese Sekhain   \n",
       "1         70962    Completed                                  NaN   \n",
       "2         70960    Completed  Justju ka safar-1/Waqfa e Pareshani   \n",
       "3         70959    Completed                          R ka Taaruf   \n",
       "4         70958    Completed                                  NaN   \n",
       "\n",
       "        Order Date City (Billing)  \n",
       "0  1/20/2021 17:43           Swat  \n",
       "1  1/20/2021 13:37        Karachi  \n",
       "2  1/20/2021 10:48        Karachi  \n",
       "3  1/20/2021 10:32        Karachi  \n",
       "4  1/20/2021 10:29        Karachi  "
      ]
     },
     "execution_count": 108,
     "metadata": {},
     "output_type": "execute_result"
    }
   ],
   "source": [
    "df.head()"
   ]
  },
  {
   "cell_type": "code",
   "execution_count": 4,
   "metadata": {},
   "outputs": [
    {
     "data": {
      "text/plain": [
       "(19187, 5)"
      ]
     },
     "execution_count": 4,
     "metadata": {},
     "output_type": "execute_result"
    }
   ],
   "source": [
    "df.shape"
   ]
  },
  {
   "cell_type": "code",
   "execution_count": 99,
   "metadata": {},
   "outputs": [
    {
     "data": {
      "text/plain": [
       "Order Number         0\n",
       "Order Status         0\n",
       "Book Name         2578\n",
       "Order Date           0\n",
       "City (Billing)      73\n",
       "dtype: int64"
      ]
     },
     "execution_count": 99,
     "metadata": {},
     "output_type": "execute_result"
    }
   ],
   "source": [
    "df.isnull().sum()"
   ]
  },
  {
   "cell_type": "code",
   "execution_count": 6,
   "metadata": {},
   "outputs": [
    {
     "data": {
      "text/plain": [
       "3464"
      ]
     },
     "execution_count": 6,
     "metadata": {},
     "output_type": "execute_result"
    }
   ],
   "source": [
    "df['Book Name'].nunique()"
   ]
  },
  {
   "cell_type": "code",
   "execution_count": 7,
   "metadata": {},
   "outputs": [
    {
     "data": {
      "text/plain": [
       "Completed    17896\n",
       "Returned      1263\n",
       "Canceled        28\n",
       "Name: Order Status, dtype: int64"
      ]
     },
     "execution_count": 7,
     "metadata": {},
     "output_type": "execute_result"
    }
   ],
   "source": [
    "df['Order Status'].value_counts()"
   ]
  },
  {
   "cell_type": "code",
   "execution_count": 230,
   "metadata": {},
   "outputs": [
    {
     "data": {
      "text/plain": [
       "Index(['Order Number', 'Order Status', 'Book Name', 'Order Date',\n",
       "       'City (Billing)'],\n",
       "      dtype='object')"
      ]
     },
     "execution_count": 230,
     "metadata": {},
     "output_type": "execute_result"
    }
   ],
   "source": [
    "df.columns"
   ]
  },
  {
   "cell_type": "code",
   "execution_count": 8,
   "metadata": {},
   "outputs": [
    {
     "name": "stdout",
     "output_type": "stream",
     "text": [
      "<class 'pandas.core.frame.DataFrame'>\n",
      "RangeIndex: 19187 entries, 0 to 19186\n",
      "Data columns (total 5 columns):\n",
      " #   Column          Non-Null Count  Dtype \n",
      "---  ------          --------------  ----- \n",
      " 0   Order Number    19187 non-null  int64 \n",
      " 1   Order Status    19187 non-null  object\n",
      " 2   Book Name       16609 non-null  object\n",
      " 3   Order Date      19187 non-null  object\n",
      " 4   City (Billing)  19114 non-null  object\n",
      "dtypes: int64(1), object(4)\n",
      "memory usage: 749.6+ KB\n"
     ]
    }
   ],
   "source": [
    "df.info()"
   ]
  },
  {
   "cell_type": "code",
   "execution_count": null,
   "metadata": {},
   "outputs": [],
   "source": [
    "def pre():\n",
    "    df['Order Date']=pd.to_datetime(df['Order Date'])\n",
    "    si=SimpleImputer(strategy='most_frequent')\n",
    "    df['City (Billing)']=si.fit_transform(df[['City (Billing)']])"
   ]
  },
  {
   "cell_type": "code",
   "execution_count": 109,
   "metadata": {},
   "outputs": [],
   "source": [
    "df['Order Date']=pd.to_datetime(df['Order Date'])"
   ]
  },
  {
   "cell_type": "code",
   "execution_count": 112,
   "metadata": {},
   "outputs": [
    {
     "data": {
      "text/html": [
       "<div>\n",
       "<style scoped>\n",
       "    .dataframe tbody tr th:only-of-type {\n",
       "        vertical-align: middle;\n",
       "    }\n",
       "\n",
       "    .dataframe tbody tr th {\n",
       "        vertical-align: top;\n",
       "    }\n",
       "\n",
       "    .dataframe thead th {\n",
       "        text-align: right;\n",
       "    }\n",
       "</style>\n",
       "<table border=\"1\" class=\"dataframe\">\n",
       "  <thead>\n",
       "    <tr style=\"text-align: right;\">\n",
       "      <th></th>\n",
       "      <th>Order Number</th>\n",
       "      <th>Order Status</th>\n",
       "      <th>Book Name</th>\n",
       "      <th>Order Date</th>\n",
       "      <th>City (Billing)</th>\n",
       "    </tr>\n",
       "  </thead>\n",
       "  <tbody>\n",
       "    <tr>\n",
       "      <th>0</th>\n",
       "      <td>70978</td>\n",
       "      <td>Completed</td>\n",
       "      <td>Column Nigari Kese Sekhain</td>\n",
       "      <td>2021-01-20 17:43:00</td>\n",
       "      <td>Swat</td>\n",
       "    </tr>\n",
       "    <tr>\n",
       "      <th>1</th>\n",
       "      <td>70962</td>\n",
       "      <td>Completed</td>\n",
       "      <td>NaN</td>\n",
       "      <td>2021-01-20 13:37:00</td>\n",
       "      <td>Karachi</td>\n",
       "    </tr>\n",
       "    <tr>\n",
       "      <th>2</th>\n",
       "      <td>70960</td>\n",
       "      <td>Completed</td>\n",
       "      <td>Justju ka safar-1/Waqfa e Pareshani</td>\n",
       "      <td>2021-01-20 10:48:00</td>\n",
       "      <td>Karachi</td>\n",
       "    </tr>\n",
       "    <tr>\n",
       "      <th>3</th>\n",
       "      <td>70959</td>\n",
       "      <td>Completed</td>\n",
       "      <td>R ka Taaruf</td>\n",
       "      <td>2021-01-20 10:32:00</td>\n",
       "      <td>Karachi</td>\n",
       "    </tr>\n",
       "    <tr>\n",
       "      <th>4</th>\n",
       "      <td>70958</td>\n",
       "      <td>Completed</td>\n",
       "      <td>NaN</td>\n",
       "      <td>2021-01-20 10:29:00</td>\n",
       "      <td>Karachi</td>\n",
       "    </tr>\n",
       "  </tbody>\n",
       "</table>\n",
       "</div>"
      ],
      "text/plain": [
       "   Order Number Order Status                            Book Name  \\\n",
       "0         70978    Completed           Column Nigari Kese Sekhain   \n",
       "1         70962    Completed                                  NaN   \n",
       "2         70960    Completed  Justju ka safar-1/Waqfa e Pareshani   \n",
       "3         70959    Completed                          R ka Taaruf   \n",
       "4         70958    Completed                                  NaN   \n",
       "\n",
       "           Order Date City (Billing)  \n",
       "0 2021-01-20 17:43:00           Swat  \n",
       "1 2021-01-20 13:37:00        Karachi  \n",
       "2 2021-01-20 10:48:00        Karachi  \n",
       "3 2021-01-20 10:32:00        Karachi  \n",
       "4 2021-01-20 10:29:00        Karachi  "
      ]
     },
     "execution_count": 112,
     "metadata": {},
     "output_type": "execute_result"
    }
   ],
   "source": [
    "df.head()"
   ]
  },
  {
   "cell_type": "code",
   "execution_count": 113,
   "metadata": {},
   "outputs": [
    {
     "data": {
      "text/plain": [
       "Order Number         0\n",
       "Order Status         0\n",
       "Book Name         2578\n",
       "Order Date           0\n",
       "City (Billing)       0\n",
       "dtype: int64"
      ]
     },
     "execution_count": 113,
     "metadata": {},
     "output_type": "execute_result"
    }
   ],
   "source": [
    "df.isnull().sum()"
   ]
  },
  {
   "cell_type": "code",
   "execution_count": 10,
   "metadata": {},
   "outputs": [
    {
     "name": "stdout",
     "output_type": "stream",
     "text": [
      "<class 'pandas.core.frame.DataFrame'>\n",
      "RangeIndex: 19187 entries, 0 to 19186\n",
      "Data columns (total 5 columns):\n",
      " #   Column          Non-Null Count  Dtype         \n",
      "---  ------          --------------  -----         \n",
      " 0   Order Number    19187 non-null  int64         \n",
      " 1   Order Status    19187 non-null  object        \n",
      " 2   Book Name       16609 non-null  object        \n",
      " 3   Order Date      19187 non-null  datetime64[ns]\n",
      " 4   City (Billing)  19114 non-null  object        \n",
      "dtypes: datetime64[ns](1), int64(1), object(3)\n",
      "memory usage: 749.6+ KB\n"
     ]
    }
   ],
   "source": [
    "df.info()"
   ]
  },
  {
   "cell_type": "code",
   "execution_count": 96,
   "metadata": {},
   "outputs": [],
   "source": [
    "df['year']= df['Order Date'].dt.year\n",
    "df['month']= df['Order Date'].dt.month_name()\n",
    "df['day']= df['Order Date'].dt.day_name()"
   ]
  },
  {
   "cell_type": "code",
   "execution_count": 114,
   "metadata": {},
   "outputs": [
    {
     "data": {
      "text/html": [
       "<div>\n",
       "<style scoped>\n",
       "    .dataframe tbody tr th:only-of-type {\n",
       "        vertical-align: middle;\n",
       "    }\n",
       "\n",
       "    .dataframe tbody tr th {\n",
       "        vertical-align: top;\n",
       "    }\n",
       "\n",
       "    .dataframe thead th {\n",
       "        text-align: right;\n",
       "    }\n",
       "</style>\n",
       "<table border=\"1\" class=\"dataframe\">\n",
       "  <thead>\n",
       "    <tr style=\"text-align: right;\">\n",
       "      <th></th>\n",
       "      <th>Order Number</th>\n",
       "      <th>Order Status</th>\n",
       "      <th>Book Name</th>\n",
       "      <th>Order Date</th>\n",
       "      <th>City (Billing)</th>\n",
       "    </tr>\n",
       "  </thead>\n",
       "  <tbody>\n",
       "    <tr>\n",
       "      <th>0</th>\n",
       "      <td>70978</td>\n",
       "      <td>Completed</td>\n",
       "      <td>Column Nigari Kese Sekhain</td>\n",
       "      <td>2021-01-20 17:43:00</td>\n",
       "      <td>Swat</td>\n",
       "    </tr>\n",
       "    <tr>\n",
       "      <th>1</th>\n",
       "      <td>70962</td>\n",
       "      <td>Completed</td>\n",
       "      <td>NaN</td>\n",
       "      <td>2021-01-20 13:37:00</td>\n",
       "      <td>Karachi</td>\n",
       "    </tr>\n",
       "    <tr>\n",
       "      <th>2</th>\n",
       "      <td>70960</td>\n",
       "      <td>Completed</td>\n",
       "      <td>Justju ka safar-1/Waqfa e Pareshani</td>\n",
       "      <td>2021-01-20 10:48:00</td>\n",
       "      <td>Karachi</td>\n",
       "    </tr>\n",
       "    <tr>\n",
       "      <th>3</th>\n",
       "      <td>70959</td>\n",
       "      <td>Completed</td>\n",
       "      <td>R ka Taaruf</td>\n",
       "      <td>2021-01-20 10:32:00</td>\n",
       "      <td>Karachi</td>\n",
       "    </tr>\n",
       "    <tr>\n",
       "      <th>4</th>\n",
       "      <td>70958</td>\n",
       "      <td>Completed</td>\n",
       "      <td>NaN</td>\n",
       "      <td>2021-01-20 10:29:00</td>\n",
       "      <td>Karachi</td>\n",
       "    </tr>\n",
       "  </tbody>\n",
       "</table>\n",
       "</div>"
      ],
      "text/plain": [
       "   Order Number Order Status                            Book Name  \\\n",
       "0         70978    Completed           Column Nigari Kese Sekhain   \n",
       "1         70962    Completed                                  NaN   \n",
       "2         70960    Completed  Justju ka safar-1/Waqfa e Pareshani   \n",
       "3         70959    Completed                          R ka Taaruf   \n",
       "4         70958    Completed                                  NaN   \n",
       "\n",
       "           Order Date City (Billing)  \n",
       "0 2021-01-20 17:43:00           Swat  \n",
       "1 2021-01-20 13:37:00        Karachi  \n",
       "2 2021-01-20 10:48:00        Karachi  \n",
       "3 2021-01-20 10:32:00        Karachi  \n",
       "4 2021-01-20 10:29:00        Karachi  "
      ]
     },
     "execution_count": 114,
     "metadata": {},
     "output_type": "execute_result"
    }
   ],
   "source": [
    "df.head()"
   ]
  },
  {
   "cell_type": "code",
   "execution_count": 235,
   "metadata": {},
   "outputs": [
    {
     "data": {
      "text/plain": [
       "Karachi                                                                   2319\n",
       "Lahore                                                                    1988\n",
       "Islamabad                                                                  859\n",
       "Rawalpindi                                                                 644\n",
       "Faisalabad                                                                 476\n",
       "                                                                          ... \n",
       "Dadyal Ajk                                                                   1\n",
       "Shah latif town Karachi                                                      1\n",
       "Mirpur Azad kashmir                                                          1\n",
       "ALI town lahore thokar niaz biag near university of lahore old campus.       1\n",
       "Karachi                                                                      1\n",
       "Name: City (Billing), Length: 4077, dtype: int64"
      ]
     },
     "execution_count": 235,
     "metadata": {},
     "output_type": "execute_result"
    }
   ],
   "source": [
    "df['City (Billing)'].value_counts()"
   ]
  },
  {
   "cell_type": "code",
   "execution_count": 236,
   "metadata": {},
   "outputs": [
    {
     "data": {
      "text/plain": [
       "True     4066\n",
       "False      11\n",
       "Name: City (Billing), dtype: int64"
      ]
     },
     "execution_count": 236,
     "metadata": {},
     "output_type": "execute_result"
    }
   ],
   "source": [
    "((df['City (Billing)'].value_counts() ) <= 210).value_counts()"
   ]
  },
  {
   "cell_type": "code",
   "execution_count": 25,
   "metadata": {},
   "outputs": [
    {
     "data": {
      "text/plain": [
       "4077"
      ]
     },
     "execution_count": 25,
     "metadata": {},
     "output_type": "execute_result"
    }
   ],
   "source": [
    "df['City (Billing)'].nunique()"
   ]
  },
  {
   "cell_type": "code",
   "execution_count": 40,
   "metadata": {},
   "outputs": [
    {
     "data": {
      "text/plain": [
       "0              Swat\n",
       "1           Karachi\n",
       "2           Karachi\n",
       "3           Karachi\n",
       "4           Karachi\n",
       "            ...    \n",
       "19182      Karachi \n",
       "19183    Rawalpindi\n",
       "19184     Hyderabad\n",
       "19185    Rawalpindi\n",
       "19186    faisalabad\n",
       "Name: City (Billing), Length: 19187, dtype: object"
      ]
     },
     "execution_count": 40,
     "metadata": {},
     "output_type": "execute_result"
    }
   ],
   "source": [
    "df['City (Billing)']"
   ]
  },
  {
   "cell_type": "code",
   "execution_count": 26,
   "metadata": {},
   "outputs": [
    {
     "data": {
      "text/plain": [
       "Order Number         0\n",
       "Order Status         0\n",
       "Book Name         2578\n",
       "Order Date           0\n",
       "City (Billing)      73\n",
       "year                 0\n",
       "month                0\n",
       "day                  0\n",
       "dtype: int64"
      ]
     },
     "execution_count": 26,
     "metadata": {},
     "output_type": "execute_result"
    }
   ],
   "source": [
    "df.isnull().sum()"
   ]
  },
  {
   "cell_type": "code",
   "execution_count": 39,
   "metadata": {},
   "outputs": [
    {
     "data": {
      "text/plain": [
       "'Karachi'"
      ]
     },
     "execution_count": 39,
     "metadata": {},
     "output_type": "execute_result"
    }
   ],
   "source": [
    "df['City (Billing)'][1]"
   ]
  },
  {
   "cell_type": "code",
   "execution_count": 115,
   "metadata": {},
   "outputs": [],
   "source": [
    "\n",
    "def myfun():\n",
    "    count= df['City (Billing)'].value_counts()\n",
    "    ci=count[ count > 168 ].index\n",
    "    j=0\n",
    "    for i in df['City (Billing)']:\n",
    "        if i in ci:\n",
    "            pass\n",
    "        else:\n",
    "            df['City (Billing)'][j]=\"others\"\n",
    "    \n",
    "        j=j+1\n",
    "\n",
    "   "
   ]
  },
  {
   "cell_type": "code",
   "execution_count": 116,
   "metadata": {},
   "outputs": [
    {
     "name": "stderr",
     "output_type": "stream",
     "text": [
      "C:\\Users\\ALI HASNAIN\\AppData\\Local\\Temp\\ipykernel_14624\\172603650.py:7: SettingWithCopyWarning: \n",
      "A value is trying to be set on a copy of a slice from a DataFrame\n",
      "\n",
      "See the caveats in the documentation: https://pandas.pydata.org/pandas-docs/stable/user_guide/indexing.html#returning-a-view-versus-a-copy\n",
      "  df['City (Billing)'][j]=\"others\"\n"
     ]
    }
   ],
   "source": [
    "myfun()"
   ]
  },
  {
   "cell_type": "code",
   "execution_count": 90,
   "metadata": {},
   "outputs": [
    {
     "data": {
      "text/html": [
       "<div>\n",
       "<style scoped>\n",
       "    .dataframe tbody tr th:only-of-type {\n",
       "        vertical-align: middle;\n",
       "    }\n",
       "\n",
       "    .dataframe tbody tr th {\n",
       "        vertical-align: top;\n",
       "    }\n",
       "\n",
       "    .dataframe thead th {\n",
       "        text-align: right;\n",
       "    }\n",
       "</style>\n",
       "<table border=\"1\" class=\"dataframe\">\n",
       "  <thead>\n",
       "    <tr style=\"text-align: right;\">\n",
       "      <th></th>\n",
       "      <th>Order Number</th>\n",
       "      <th>Order Status</th>\n",
       "      <th>Book Name</th>\n",
       "      <th>Order Date</th>\n",
       "      <th>City (Billing)</th>\n",
       "    </tr>\n",
       "  </thead>\n",
       "  <tbody>\n",
       "    <tr>\n",
       "      <th>0</th>\n",
       "      <td>70978</td>\n",
       "      <td>Completed</td>\n",
       "      <td>Column Nigari Kese Sekhain</td>\n",
       "      <td>1/20/2021 17:43</td>\n",
       "      <td>SimpleImputer(strategy='most_frequent')</td>\n",
       "    </tr>\n",
       "    <tr>\n",
       "      <th>1</th>\n",
       "      <td>70962</td>\n",
       "      <td>Completed</td>\n",
       "      <td>NaN</td>\n",
       "      <td>1/20/2021 13:37</td>\n",
       "      <td>SimpleImputer(strategy='most_frequent')</td>\n",
       "    </tr>\n",
       "    <tr>\n",
       "      <th>2</th>\n",
       "      <td>70960</td>\n",
       "      <td>Completed</td>\n",
       "      <td>Justju ka safar-1/Waqfa e Pareshani</td>\n",
       "      <td>1/20/2021 10:48</td>\n",
       "      <td>SimpleImputer(strategy='most_frequent')</td>\n",
       "    </tr>\n",
       "    <tr>\n",
       "      <th>3</th>\n",
       "      <td>70959</td>\n",
       "      <td>Completed</td>\n",
       "      <td>R ka Taaruf</td>\n",
       "      <td>1/20/2021 10:32</td>\n",
       "      <td>SimpleImputer(strategy='most_frequent')</td>\n",
       "    </tr>\n",
       "    <tr>\n",
       "      <th>4</th>\n",
       "      <td>70958</td>\n",
       "      <td>Completed</td>\n",
       "      <td>NaN</td>\n",
       "      <td>1/20/2021 10:29</td>\n",
       "      <td>SimpleImputer(strategy='most_frequent')</td>\n",
       "    </tr>\n",
       "  </tbody>\n",
       "</table>\n",
       "</div>"
      ],
      "text/plain": [
       "   Order Number Order Status                            Book Name  \\\n",
       "0         70978    Completed           Column Nigari Kese Sekhain   \n",
       "1         70962    Completed                                  NaN   \n",
       "2         70960    Completed  Justju ka safar-1/Waqfa e Pareshani   \n",
       "3         70959    Completed                          R ka Taaruf   \n",
       "4         70958    Completed                                  NaN   \n",
       "\n",
       "        Order Date                           City (Billing)  \n",
       "0  1/20/2021 17:43  SimpleImputer(strategy='most_frequent')  \n",
       "1  1/20/2021 13:37  SimpleImputer(strategy='most_frequent')  \n",
       "2  1/20/2021 10:48  SimpleImputer(strategy='most_frequent')  \n",
       "3  1/20/2021 10:32  SimpleImputer(strategy='most_frequent')  \n",
       "4  1/20/2021 10:29  SimpleImputer(strategy='most_frequent')  "
      ]
     },
     "execution_count": 90,
     "metadata": {},
     "output_type": "execute_result"
    }
   ],
   "source": [
    "df.head()"
   ]
  },
  {
   "cell_type": "code",
   "execution_count": 61,
   "metadata": {},
   "outputs": [
    {
     "data": {
      "text/plain": [
       "others        10873\n",
       "Karachi        2319\n",
       "Lahore         1988\n",
       "Islamabad       859\n",
       "Rawalpindi      644\n",
       "Faisalabad      476\n",
       "Peshawar        427\n",
       "Multan          424\n",
       "Gujranwala      262\n",
       "karachi         251\n",
       "Hyderabad       240\n",
       "Quetta          223\n",
       "Sialkot         201\n",
       "Name: City (Billing), dtype: int64"
      ]
     },
     "execution_count": 61,
     "metadata": {},
     "output_type": "execute_result"
    }
   ],
   "source": [
    "df['City (Billing)'].value_counts()"
   ]
  },
  {
   "cell_type": "code",
   "execution_count": 54,
   "metadata": {},
   "outputs": [
    {
     "data": {
      "text/plain": [
       "Index(['Karachi', 'Lahore', 'Islamabad', 'Rawalpindi', 'Faisalabad',\n",
       "       'Peshawar', 'Multan', 'Gujranwala', 'karachi', 'Hyderabad', 'Quetta',\n",
       "       'Sialkot'],\n",
       "      dtype='object')"
      ]
     },
     "execution_count": 54,
     "metadata": {},
     "output_type": "execute_result"
    }
   ],
   "source": [
    "count= df['City (Billing)'].value_counts()\n",
    "count[ count > 168 ].index"
   ]
  },
  {
   "cell_type": "code",
   "execution_count": 241,
   "metadata": {},
   "outputs": [],
   "source": [
    "l_50=count[ count <= 50 ].index\n",
    "#1-50"
   ]
  },
  {
   "cell_type": "code",
   "execution_count": 242,
   "metadata": {},
   "outputs": [],
   "source": [
    "g_50=count[ count > 50 ] \n",
    "#51<"
   ]
  },
  {
   "cell_type": "code",
   "execution_count": 243,
   "metadata": {},
   "outputs": [],
   "source": [
    "\n",
    "b_50_124=g_50[g_50 <= 124].index\n",
    "#51-123"
   ]
  },
  {
   "cell_type": "code",
   "execution_count": 261,
   "metadata": {},
   "outputs": [
    {
     "data": {
      "text/plain": [
       "Index(['Karachi', 'Lahore', 'Islamabad', 'Rawalpindi', 'Faisalabad',\n",
       "       'Peshawar', 'Multan', 'Gujranwala', 'karachi', 'Hyderabad', 'Quetta',\n",
       "       'Sialkot', 'Bahawalpur'],\n",
       "      dtype='object')"
      ]
     },
     "execution_count": 261,
     "metadata": {},
     "output_type": "execute_result"
    }
   ],
   "source": [
    "g_124=count[ count > 124 ].index\n",
    "g_124"
   ]
  },
  {
   "cell_type": "code",
   "execution_count": 265,
   "metadata": {},
   "outputs": [],
   "source": [
    "df_l_50=pd.get_dummies(df['City (Billing)'].replace(l_50,\"till_50\"))\n"
   ]
  },
  {
   "cell_type": "code",
   "execution_count": 266,
   "metadata": {},
   "outputs": [],
   "source": [
    "df_50_124=pd.get_dummies(df['City (Billing)'].replace(b_50_124,\"bet_51_124\"))"
   ]
  },
  {
   "cell_type": "code",
   "execution_count": 269,
   "metadata": {},
   "outputs": [],
   "source": [
    "df_124_g=pd.get_dummies(df['City (Billing)'].replace(g_124,\"greater_124\"))\n"
   ]
  },
  {
   "cell_type": "code",
   "execution_count": 279,
   "metadata": {},
   "outputs": [],
   "source": [
    "df_bin=pd.get_dummies(df['City (Billing)'].replace((count[ count < 124 ].index) ,\"others\"))"
   ]
  },
  {
   "cell_type": "code",
   "execution_count": 326,
   "metadata": {},
   "outputs": [],
   "source": [
    "def myfuc(count):\n",
    "    if count < 124 :\n",
    "        return 'others'\n",
    "    "
   ]
  },
  {
   "cell_type": "code",
   "execution_count": 252,
   "metadata": {},
   "outputs": [
    {
     "data": {
      "text/plain": [
       "4077"
      ]
     },
     "execution_count": 252,
     "metadata": {},
     "output_type": "execute_result"
    }
   ],
   "source": [
    "df['City (Billing)'].nunique()"
   ]
  },
  {
   "cell_type": "code",
   "execution_count": 69,
   "metadata": {},
   "outputs": [],
   "source": [
    "from sklearn.preprocessing import MinMaxScaler,StandardScaler,OneHotEncoder,OrdinalEncoder\n",
    "from sklearn.compose import ColumnTransformer,make_column_transformer\n",
    "from sklearn.impute import SimpleImputer\n",
    "from sklearn.pipeline import Pipeline,make_pipeline\n",
    "from sklearn.feature_selection import SelectKBest,chi2"
   ]
  },
  {
   "cell_type": "code",
   "execution_count": 70,
   "metadata": {},
   "outputs": [
    {
     "name": "stderr",
     "output_type": "stream",
     "text": [
      "C:\\Users\\ALI HASNAIN\\AppData\\Local\\Temp\\ipykernel_14624\\172603650.py:7: SettingWithCopyWarning: \n",
      "A value is trying to be set on a copy of a slice from a DataFrame\n",
      "\n",
      "See the caveats in the documentation: https://pandas.pydata.org/pandas-docs/stable/user_guide/indexing.html#returning-a-view-versus-a-copy\n",
      "  df['City (Billing)'][j]=\"others\"\n"
     ]
    },
    {
     "ename": "TypeError",
     "evalue": "'NoneType' object is not iterable",
     "output_type": "error",
     "traceback": [
      "\u001b[1;31m---------------------------------------------------------------------------\u001b[0m",
      "\u001b[1;31mTypeError\u001b[0m                                 Traceback (most recent call last)",
      "\u001b[1;32md:\\Documents SE\\CampusX-ML\\Task_by_DS_Com.ipynb Cell 38\u001b[0m in \u001b[0;36m<cell line: 1>\u001b[1;34m()\u001b[0m\n\u001b[1;32m----> <a href='vscode-notebook-cell:/d%3A/Documents%20SE/CampusX-ML/Task_by_DS_Com.ipynb#X50sZmlsZQ%3D%3D?line=0'>1</a>\u001b[0m tr1\u001b[39m=\u001b[39mmake_column_transformer(myfun()\n\u001b[0;32m      <a href='vscode-notebook-cell:/d%3A/Documents%20SE/CampusX-ML/Task_by_DS_Com.ipynb#X50sZmlsZQ%3D%3D?line=1'>2</a>\u001b[0m ,remainder\u001b[39m=\u001b[39;49m\u001b[39m'\u001b[39;49m\u001b[39mpassthrough\u001b[39;49m\u001b[39m'\u001b[39;49m)\n",
      "File \u001b[1;32mc:\\Users\\ALI HASNAIN\\AppData\\Local\\Programs\\Python\\Python310\\lib\\site-packages\\sklearn\\compose\\_column_transformer.py:953\u001b[0m, in \u001b[0;36mmake_column_transformer\u001b[1;34m(remainder, sparse_threshold, n_jobs, verbose, verbose_feature_names_out, *transformers)\u001b[0m\n\u001b[0;32m    859\u001b[0m \u001b[39m\"\"\"Construct a ColumnTransformer from the given transformers.\u001b[39;00m\n\u001b[0;32m    860\u001b[0m \n\u001b[0;32m    861\u001b[0m \u001b[39mThis is a shorthand for the ColumnTransformer constructor; it does not\u001b[39;00m\n\u001b[1;32m   (...)\u001b[0m\n\u001b[0;32m    949\u001b[0m \u001b[39m                                 ['categorical_column'])])\u001b[39;00m\n\u001b[0;32m    950\u001b[0m \u001b[39m\"\"\"\u001b[39;00m\n\u001b[0;32m    951\u001b[0m \u001b[39m# transformer_weights keyword is not passed through because the user\u001b[39;00m\n\u001b[0;32m    952\u001b[0m \u001b[39m# would need to know the automatically generated names of the transformers\u001b[39;00m\n\u001b[1;32m--> 953\u001b[0m transformer_list \u001b[39m=\u001b[39m _get_transformer_list(transformers)\n\u001b[0;32m    954\u001b[0m \u001b[39mreturn\u001b[39;00m ColumnTransformer(\n\u001b[0;32m    955\u001b[0m     transformer_list,\n\u001b[0;32m    956\u001b[0m     n_jobs\u001b[39m=\u001b[39mn_jobs,\n\u001b[1;32m   (...)\u001b[0m\n\u001b[0;32m    960\u001b[0m     verbose_feature_names_out\u001b[39m=\u001b[39mverbose_feature_names_out,\n\u001b[0;32m    961\u001b[0m )\n",
      "File \u001b[1;32mc:\\Users\\ALI HASNAIN\\AppData\\Local\\Programs\\Python\\Python310\\lib\\site-packages\\sklearn\\compose\\_column_transformer.py:844\u001b[0m, in \u001b[0;36m_get_transformer_list\u001b[1;34m(estimators)\u001b[0m\n\u001b[0;32m    839\u001b[0m \u001b[39mdef\u001b[39;00m \u001b[39m_get_transformer_list\u001b[39m(estimators):\n\u001b[0;32m    840\u001b[0m     \u001b[39m\"\"\"\u001b[39;00m\n\u001b[0;32m    841\u001b[0m \u001b[39m    Construct (name, trans, column) tuples from list\u001b[39;00m\n\u001b[0;32m    842\u001b[0m \n\u001b[0;32m    843\u001b[0m \u001b[39m    \"\"\"\u001b[39;00m\n\u001b[1;32m--> 844\u001b[0m     transformers, columns \u001b[39m=\u001b[39m \u001b[39mzip\u001b[39;49m(\u001b[39m*\u001b[39;49mestimators)\n\u001b[0;32m    845\u001b[0m     names, _ \u001b[39m=\u001b[39m \u001b[39mzip\u001b[39m(\u001b[39m*\u001b[39m_name_estimators(transformers))\n\u001b[0;32m    847\u001b[0m     transformer_list \u001b[39m=\u001b[39m \u001b[39mlist\u001b[39m(\u001b[39mzip\u001b[39m(names, transformers, columns))\n",
      "\u001b[1;31mTypeError\u001b[0m: 'NoneType' object is not iterable"
     ]
    }
   ],
   "source": [
    "tr1=make_column_transformer(myfun(),remainder='passthrough')\n"
   ]
  },
  {
   "cell_type": "code",
   "execution_count": 8,
   "metadata": {},
   "outputs": [
    {
     "data": {
      "text/plain": [
       "0"
      ]
     },
     "execution_count": 8,
     "metadata": {},
     "output_type": "execute_result"
    }
   ],
   "source": [
    "ds['Order Number'].isnull().sum()"
   ]
  },
  {
   "cell_type": "code",
   "execution_count": null,
   "metadata": {},
   "outputs": [],
   "source": []
  }
 ],
 "metadata": {
  "kernelspec": {
   "display_name": "Python 3",
   "language": "python",
   "name": "python3"
  },
  "language_info": {
   "codemirror_mode": {
    "name": "ipython",
    "version": 3
   },
   "file_extension": ".py",
   "mimetype": "text/x-python",
   "name": "python",
   "nbconvert_exporter": "python",
   "pygments_lexer": "ipython3",
   "version": "3.10.2"
  },
  "orig_nbformat": 4,
  "vscode": {
   "interpreter": {
    "hash": "60a27fc64d5be2db52a0c7d3bb3e66acfa399496693658b1fc68664222694ae7"
   }
  }
 },
 "nbformat": 4,
 "nbformat_minor": 2
}
